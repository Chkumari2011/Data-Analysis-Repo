{
  "nbformat": 4,
  "nbformat_minor": 0,
  "metadata": {
    "colab": {
      "provenance": [],
      "authorship_tag": "ABX9TyNM7BJXj6f4diyX+R8q7Oq1",
      "include_colab_link": true
    },
    "kernelspec": {
      "name": "python3",
      "display_name": "Python 3"
    },
    "language_info": {
      "name": "python"
    }
  },
  "cells": [
    {
      "cell_type": "markdown",
      "metadata": {
        "id": "view-in-github",
        "colab_type": "text"
      },
      "source": [
        "<a href=\"https://colab.research.google.com/github/Chkumari2011/Data-Analysis-Repo/blob/main/MBLpy1.ipynb\" target=\"_parent\"><img src=\"https://colab.research.google.com/assets/colab-badge.svg\" alt=\"Open In Colab\"/></a>"
      ]
    },
    {
      "cell_type": "code",
      "execution_count": 4,
      "metadata": {
        "colab": {
          "base_uri": "https://localhost:8080/"
        },
        "id": "fPpY4POefFOB",
        "outputId": "c3369cdc-c56e-4ff3-b257-ef3989373c12"
      },
      "outputs": [
        {
          "output_type": "stream",
          "name": "stdout",
          "text": [
            "1 2 1 3\n",
            "[(0, 0, 0), (0, 0, 1), (0, 1, 0), (0, 1, 1), (0, 2, 0), (1, 0, 0), (1, 0, 1), (1, 1, 0), (1, 2, 1)]\n"
          ]
        }
      ],
      "source": [
        "x, y, z, n = map(int, input().split())  # Input dimensions and n\n",
        "coordinates = [(i, j, k) for i in range(x + 1) for j in range(y + 1) for k in range(z + 1) if i + j + k != n]\n",
        "\n",
        "print(coordinates)\n"
      ]
    },
    {
      "cell_type": "code",
      "source": [
        "def get_queen_moves(row, col):\n",
        "    moves = []\n",
        "\n",
        "    # Horizontal and vertical moves\n",
        "    for i in range(8):\n",
        "        if i != row:\n",
        "            moves.append((i, col))\n",
        "        if i != col:\n",
        "            moves.append((row, i))\n",
        "\n",
        "    # Diagonal moves\n",
        "    for i in range(1, 8):\n",
        "        if 0 <= row + i < 8 and 0 <= col + i < 8:\n",
        "            moves.append((row + i, col + i))\n",
        "        if 0 <= row - i < 8 and 0 <= col + i < 8:\n",
        "            moves.append((row - i, col + i))\n",
        "        if 0 <= row + i < 8 and 0 <= col - i < 8:\n",
        "            moves.append((row + i, col - i))\n",
        "        if 0 <= row - i < 8 and 0 <= col - i < 8:\n",
        "            moves.append((row - i, col - i))\n",
        "\n",
        "    return moves\n",
        "\n",
        "# Input the queen's position\n",
        "row = int(input(\"Enter the row of the queen's position (0-7): \"))\n",
        "col = int(input(\"Enter the column of the queen's position (0-7): \"))\n",
        "\n",
        "# Get the coordinates where the queen can move\n",
        "possible_moves = get_queen_moves(row, col)\n",
        "\n",
        "print(\"Possible moves for the queen:\")\n",
        "for move in possible_moves:\n",
        "    print(move)\n"
      ],
      "metadata": {
        "colab": {
          "base_uri": "https://localhost:8080/"
        },
        "id": "5SozegTkw9Fy",
        "outputId": "f01a890d-5ef8-4e2d-9790-30c515fc2575"
      },
      "execution_count": 5,
      "outputs": [
        {
          "output_type": "stream",
          "name": "stdout",
          "text": [
            "Enter the row of the queen's position (0-7): 3\n",
            "Enter the column of the queen's position (0-7): 6\n",
            "Possible moves for the queen:\n",
            "(0, 6)\n",
            "(3, 0)\n",
            "(1, 6)\n",
            "(3, 1)\n",
            "(2, 6)\n",
            "(3, 2)\n",
            "(3, 3)\n",
            "(4, 6)\n",
            "(3, 4)\n",
            "(5, 6)\n",
            "(3, 5)\n",
            "(6, 6)\n",
            "(7, 6)\n",
            "(3, 7)\n",
            "(4, 7)\n",
            "(2, 7)\n",
            "(4, 5)\n",
            "(2, 5)\n",
            "(5, 4)\n",
            "(1, 4)\n",
            "(6, 3)\n",
            "(0, 3)\n",
            "(7, 2)\n"
          ]
        }
      ]
    },
    {
      "cell_type": "code",
      "source": [],
      "metadata": {
        "id": "sGBbL5ljw-n3"
      },
      "execution_count": null,
      "outputs": []
    },
    {
      "cell_type": "code",
      "source": [
        "def get_bishop_moves(row, col):\n",
        "    moves = []\n",
        "\n",
        "    # Diagonal moves\n",
        "    for i in range(1, 8):\n",
        "        if 0 <= row + i < 8 and 0 <= col + i < 8:\n",
        "            moves.append((row + i, col + i))\n",
        "        if 0 <= row - i < 8 and 0 <= col + i < 8:\n",
        "            moves.append((row - i, col + i))\n",
        "        if 0 <= row + i < 8 and 0 <= col - i < 8:\n",
        "            moves.append((row + i, col - i))\n",
        "        if 0 <= row - i < 8 and 0 <= col - i < 8:\n",
        "            moves.append((row - i, col - i))\n",
        "\n",
        "    return moves\n",
        "\n",
        "# Input the bishop's position\n",
        "row = int(input(\"Enter the row of the bishop's position (0-7): \"))\n",
        "col = int(input(\"Enter the column of the bishop's position (0-7): \"))\n",
        "\n",
        "# Get the coordinates where the bishop can move\n",
        "possible_moves = get_bishop_moves(row, col)\n",
        "\n",
        "print(\"Possible moves for the bishop:\")\n",
        "for move in possible_moves:\n",
        "    print(move)\n"
      ],
      "metadata": {
        "colab": {
          "base_uri": "https://localhost:8080/"
        },
        "id": "YylMs__uyE_K",
        "outputId": "d8997002-2a92-4447-9a79-4433de18dc25"
      },
      "execution_count": 6,
      "outputs": [
        {
          "output_type": "stream",
          "name": "stdout",
          "text": [
            "Enter the row of the bishop's position (0-7): 7\n",
            "Enter the column of the bishop's position (0-7): 4\n",
            "Possible moves for the bishop:\n",
            "(6, 5)\n",
            "(6, 3)\n",
            "(5, 6)\n",
            "(5, 2)\n",
            "(4, 7)\n",
            "(4, 1)\n",
            "(3, 0)\n"
          ]
        }
      ]
    },
    {
      "cell_type": "code",
      "source": [],
      "metadata": {
        "id": "oi5eiL9FyGAV"
      },
      "execution_count": null,
      "outputs": []
    }
  ]
}